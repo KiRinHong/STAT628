{
 "cells": [
  {
   "cell_type": "markdown",
   "metadata": {},
   "source": [
    "# Group 5: Body Fat Data Project\n",
    "\n",
    "The goal is to come up with a simple, precise and accurate way of determining body fat percentage of males based on readily available clinical measurements. \n",
    "\n",
    "The data set contains measurements from 252 men who had their body fat percentage accurately measured via underwater weighing. \n",
    "\n",
    "This notebook covers a Python-based solution for the module 1 exercise of the Data Science Practium class."
   ]
  },
  {
   "cell_type": "markdown",
   "metadata": {},
   "source": [
    "## Step 1: Analyzing Raw Data\n",
    "\n",
    "In this step, we want to check duplicate data, fix and amend badly-formatted, incorrect and amend incomplete data from original file."
   ]
  },
  {
   "cell_type": "code",
   "execution_count": 1,
   "metadata": {},
   "outputs": [],
   "source": [
    "import warnings\n",
    "warnings.filterwarnings('ignore')\n",
    "import pandas as pd\n",
    "import numpy as np\n",
    "import matplotlib.pyplot as plt\n",
    "import seaborn as sns\n",
    "import itertools\n",
    "from sklearn import linear_model\n",
    "from sklearn.metrics import mean_squared_error\n",
    "from sklearn.linear_model import Lasso\n",
    "%matplotlib inline"
   ]
  },
  {
   "cell_type": "code",
   "execution_count": 2,
   "metadata": {
    "scrolled": true
   },
   "outputs": [
    {
     "data": {
      "text/html": [
       "<div>\n",
       "<style scoped>\n",
       "    .dataframe tbody tr th:only-of-type {\n",
       "        vertical-align: middle;\n",
       "    }\n",
       "\n",
       "    .dataframe tbody tr th {\n",
       "        vertical-align: top;\n",
       "    }\n",
       "\n",
       "    .dataframe thead th {\n",
       "        text-align: right;\n",
       "    }\n",
       "</style>\n",
       "<table border=\"1\" class=\"dataframe\">\n",
       "  <thead>\n",
       "    <tr style=\"text-align: right;\">\n",
       "      <th></th>\n",
       "      <th>BODYFAT</th>\n",
       "      <th>DENSITY</th>\n",
       "      <th>AGE</th>\n",
       "      <th>WEIGHT</th>\n",
       "      <th>HEIGHT</th>\n",
       "      <th>ADIPOSITY</th>\n",
       "      <th>NECK</th>\n",
       "      <th>CHEST</th>\n",
       "      <th>ABDOMEN</th>\n",
       "      <th>HIP</th>\n",
       "      <th>THIGH</th>\n",
       "      <th>KNEE</th>\n",
       "      <th>ANKLE</th>\n",
       "      <th>BICEPS</th>\n",
       "      <th>FOREARM</th>\n",
       "      <th>WRIST</th>\n",
       "    </tr>\n",
       "    <tr>\n",
       "      <th>IDNO</th>\n",
       "      <th></th>\n",
       "      <th></th>\n",
       "      <th></th>\n",
       "      <th></th>\n",
       "      <th></th>\n",
       "      <th></th>\n",
       "      <th></th>\n",
       "      <th></th>\n",
       "      <th></th>\n",
       "      <th></th>\n",
       "      <th></th>\n",
       "      <th></th>\n",
       "      <th></th>\n",
       "      <th></th>\n",
       "      <th></th>\n",
       "      <th></th>\n",
       "    </tr>\n",
       "  </thead>\n",
       "  <tbody>\n",
       "    <tr>\n",
       "      <th>1</th>\n",
       "      <td>12.6</td>\n",
       "      <td>1.0708</td>\n",
       "      <td>23</td>\n",
       "      <td>154.25</td>\n",
       "      <td>67.75</td>\n",
       "      <td>23.7</td>\n",
       "      <td>36.2</td>\n",
       "      <td>93.1</td>\n",
       "      <td>85.2</td>\n",
       "      <td>94.5</td>\n",
       "      <td>59.0</td>\n",
       "      <td>37.3</td>\n",
       "      <td>21.9</td>\n",
       "      <td>32.0</td>\n",
       "      <td>27.4</td>\n",
       "      <td>17.1</td>\n",
       "    </tr>\n",
       "    <tr>\n",
       "      <th>2</th>\n",
       "      <td>6.9</td>\n",
       "      <td>1.0853</td>\n",
       "      <td>22</td>\n",
       "      <td>173.25</td>\n",
       "      <td>72.25</td>\n",
       "      <td>23.4</td>\n",
       "      <td>38.5</td>\n",
       "      <td>93.6</td>\n",
       "      <td>83.0</td>\n",
       "      <td>98.7</td>\n",
       "      <td>58.7</td>\n",
       "      <td>37.3</td>\n",
       "      <td>23.4</td>\n",
       "      <td>30.5</td>\n",
       "      <td>28.9</td>\n",
       "      <td>18.2</td>\n",
       "    </tr>\n",
       "    <tr>\n",
       "      <th>3</th>\n",
       "      <td>24.6</td>\n",
       "      <td>1.0414</td>\n",
       "      <td>22</td>\n",
       "      <td>154.00</td>\n",
       "      <td>66.25</td>\n",
       "      <td>24.7</td>\n",
       "      <td>34.0</td>\n",
       "      <td>95.8</td>\n",
       "      <td>87.9</td>\n",
       "      <td>99.2</td>\n",
       "      <td>59.6</td>\n",
       "      <td>38.9</td>\n",
       "      <td>24.0</td>\n",
       "      <td>28.8</td>\n",
       "      <td>25.2</td>\n",
       "      <td>16.6</td>\n",
       "    </tr>\n",
       "    <tr>\n",
       "      <th>4</th>\n",
       "      <td>10.9</td>\n",
       "      <td>1.0751</td>\n",
       "      <td>26</td>\n",
       "      <td>184.75</td>\n",
       "      <td>72.25</td>\n",
       "      <td>24.9</td>\n",
       "      <td>37.4</td>\n",
       "      <td>101.8</td>\n",
       "      <td>86.4</td>\n",
       "      <td>101.2</td>\n",
       "      <td>60.1</td>\n",
       "      <td>37.3</td>\n",
       "      <td>22.8</td>\n",
       "      <td>32.4</td>\n",
       "      <td>29.4</td>\n",
       "      <td>18.2</td>\n",
       "    </tr>\n",
       "    <tr>\n",
       "      <th>5</th>\n",
       "      <td>27.8</td>\n",
       "      <td>1.0340</td>\n",
       "      <td>24</td>\n",
       "      <td>184.25</td>\n",
       "      <td>71.25</td>\n",
       "      <td>25.6</td>\n",
       "      <td>34.4</td>\n",
       "      <td>97.3</td>\n",
       "      <td>100.0</td>\n",
       "      <td>101.9</td>\n",
       "      <td>63.2</td>\n",
       "      <td>42.2</td>\n",
       "      <td>24.0</td>\n",
       "      <td>32.2</td>\n",
       "      <td>27.7</td>\n",
       "      <td>17.7</td>\n",
       "    </tr>\n",
       "  </tbody>\n",
       "</table>\n",
       "</div>"
      ],
      "text/plain": [
       "      BODYFAT  DENSITY  AGE  WEIGHT  HEIGHT  ADIPOSITY  NECK  CHEST  ABDOMEN  \\\n",
       "IDNO                                                                           \n",
       "1        12.6   1.0708   23  154.25   67.75       23.7  36.2   93.1     85.2   \n",
       "2         6.9   1.0853   22  173.25   72.25       23.4  38.5   93.6     83.0   \n",
       "3        24.6   1.0414   22  154.00   66.25       24.7  34.0   95.8     87.9   \n",
       "4        10.9   1.0751   26  184.75   72.25       24.9  37.4  101.8     86.4   \n",
       "5        27.8   1.0340   24  184.25   71.25       25.6  34.4   97.3    100.0   \n",
       "\n",
       "        HIP  THIGH  KNEE  ANKLE  BICEPS  FOREARM  WRIST  \n",
       "IDNO                                                     \n",
       "1      94.5   59.0  37.3   21.9    32.0     27.4   17.1  \n",
       "2      98.7   58.7  37.3   23.4    30.5     28.9   18.2  \n",
       "3      99.2   59.6  38.9   24.0    28.8     25.2   16.6  \n",
       "4     101.2   60.1  37.3   22.8    32.4     29.4   18.2  \n",
       "5     101.9   63.2  42.2   24.0    32.2     27.7   17.7  "
      ]
     },
     "execution_count": 2,
     "metadata": {},
     "output_type": "execute_result"
    }
   ],
   "source": [
    "# load data and set IDNO as index\n",
    "data = pd.read_csv('./BodyFat.csv', index_col = 0)\n",
    "data.head()"
   ]
  },
  {
   "cell_type": "code",
   "execution_count": 3,
   "metadata": {},
   "outputs": [
    {
     "data": {
      "text/html": [
       "<div>\n",
       "<style scoped>\n",
       "    .dataframe tbody tr th:only-of-type {\n",
       "        vertical-align: middle;\n",
       "    }\n",
       "\n",
       "    .dataframe tbody tr th {\n",
       "        vertical-align: top;\n",
       "    }\n",
       "\n",
       "    .dataframe thead th {\n",
       "        text-align: right;\n",
       "    }\n",
       "</style>\n",
       "<table border=\"1\" class=\"dataframe\">\n",
       "  <thead>\n",
       "    <tr style=\"text-align: right;\">\n",
       "      <th></th>\n",
       "      <th>BODYFAT</th>\n",
       "      <th>DENSITY</th>\n",
       "      <th>AGE</th>\n",
       "      <th>WEIGHT</th>\n",
       "      <th>HEIGHT</th>\n",
       "      <th>ADIPOSITY</th>\n",
       "      <th>NECK</th>\n",
       "      <th>CHEST</th>\n",
       "      <th>ABDOMEN</th>\n",
       "      <th>HIP</th>\n",
       "      <th>THIGH</th>\n",
       "      <th>KNEE</th>\n",
       "      <th>ANKLE</th>\n",
       "      <th>BICEPS</th>\n",
       "      <th>FOREARM</th>\n",
       "      <th>WRIST</th>\n",
       "    </tr>\n",
       "    <tr>\n",
       "      <th>IDNO</th>\n",
       "      <th></th>\n",
       "      <th></th>\n",
       "      <th></th>\n",
       "      <th></th>\n",
       "      <th></th>\n",
       "      <th></th>\n",
       "      <th></th>\n",
       "      <th></th>\n",
       "      <th></th>\n",
       "      <th></th>\n",
       "      <th></th>\n",
       "      <th></th>\n",
       "      <th></th>\n",
       "      <th></th>\n",
       "      <th></th>\n",
       "      <th></th>\n",
       "    </tr>\n",
       "  </thead>\n",
       "  <tbody>\n",
       "  </tbody>\n",
       "</table>\n",
       "</div>"
      ],
      "text/plain": [
       "Empty DataFrame\n",
       "Columns: [BODYFAT, DENSITY, AGE, WEIGHT, HEIGHT, ADIPOSITY, NECK, CHEST, ABDOMEN, HIP, THIGH, KNEE, ANKLE, BICEPS, FOREARM, WRIST]\n",
       "Index: []"
      ]
     },
     "execution_count": 3,
     "metadata": {},
     "output_type": "execute_result"
    }
   ],
   "source": [
    "# check for duplicate data\n",
    "data[data.duplicated(keep=False)]"
   ]
  },
  {
   "cell_type": "code",
   "execution_count": 4,
   "metadata": {},
   "outputs": [
    {
     "data": {
      "text/plain": [
       "BODYFAT      0\n",
       "DENSITY      0\n",
       "AGE          0\n",
       "WEIGHT       0\n",
       "HEIGHT       0\n",
       "ADIPOSITY    0\n",
       "NECK         0\n",
       "CHEST        0\n",
       "ABDOMEN      0\n",
       "HIP          0\n",
       "THIGH        0\n",
       "KNEE         0\n",
       "ANKLE        0\n",
       "BICEPS       0\n",
       "FOREARM      0\n",
       "WRIST        0\n",
       "dtype: int64"
      ]
     },
     "execution_count": 4,
     "metadata": {},
     "output_type": "execute_result"
    }
   ],
   "source": [
    "# check for missing data\n",
    "data.isnull().sum()"
   ]
  },
  {
   "cell_type": "code",
   "execution_count": 5,
   "metadata": {},
   "outputs": [
    {
     "data": {
      "text/html": [
       "<div>\n",
       "<style scoped>\n",
       "    .dataframe tbody tr th:only-of-type {\n",
       "        vertical-align: middle;\n",
       "    }\n",
       "\n",
       "    .dataframe tbody tr th {\n",
       "        vertical-align: top;\n",
       "    }\n",
       "\n",
       "    .dataframe thead th {\n",
       "        text-align: right;\n",
       "    }\n",
       "</style>\n",
       "<table border=\"1\" class=\"dataframe\">\n",
       "  <thead>\n",
       "    <tr style=\"text-align: right;\">\n",
       "      <th></th>\n",
       "      <th>BODYFAT</th>\n",
       "      <th>DENSITY</th>\n",
       "      <th>AGE</th>\n",
       "      <th>WEIGHT</th>\n",
       "      <th>HEIGHT</th>\n",
       "      <th>ADIPOSITY</th>\n",
       "      <th>NECK</th>\n",
       "      <th>CHEST</th>\n",
       "      <th>ABDOMEN</th>\n",
       "      <th>HIP</th>\n",
       "      <th>THIGH</th>\n",
       "      <th>KNEE</th>\n",
       "      <th>ANKLE</th>\n",
       "      <th>BICEPS</th>\n",
       "      <th>FOREARM</th>\n",
       "      <th>WRIST</th>\n",
       "    </tr>\n",
       "  </thead>\n",
       "  <tbody>\n",
       "    <tr>\n",
       "      <th>count</th>\n",
       "      <td>252.000000</td>\n",
       "      <td>252.000000</td>\n",
       "      <td>252.000000</td>\n",
       "      <td>252.000000</td>\n",
       "      <td>252.000000</td>\n",
       "      <td>252.000000</td>\n",
       "      <td>252.000000</td>\n",
       "      <td>252.000000</td>\n",
       "      <td>252.000000</td>\n",
       "      <td>252.000000</td>\n",
       "      <td>252.000000</td>\n",
       "      <td>252.000000</td>\n",
       "      <td>252.000000</td>\n",
       "      <td>252.000000</td>\n",
       "      <td>252.000000</td>\n",
       "      <td>252.000000</td>\n",
       "    </tr>\n",
       "    <tr>\n",
       "      <th>mean</th>\n",
       "      <td>18.938492</td>\n",
       "      <td>1.055574</td>\n",
       "      <td>44.884921</td>\n",
       "      <td>178.924405</td>\n",
       "      <td>70.148810</td>\n",
       "      <td>25.436905</td>\n",
       "      <td>37.992063</td>\n",
       "      <td>100.824206</td>\n",
       "      <td>92.555952</td>\n",
       "      <td>99.904762</td>\n",
       "      <td>59.405952</td>\n",
       "      <td>38.590476</td>\n",
       "      <td>23.102381</td>\n",
       "      <td>32.273413</td>\n",
       "      <td>28.663889</td>\n",
       "      <td>18.229762</td>\n",
       "    </tr>\n",
       "    <tr>\n",
       "      <th>std</th>\n",
       "      <td>7.750856</td>\n",
       "      <td>0.019031</td>\n",
       "      <td>12.602040</td>\n",
       "      <td>29.389160</td>\n",
       "      <td>3.662856</td>\n",
       "      <td>3.648111</td>\n",
       "      <td>2.430913</td>\n",
       "      <td>8.430476</td>\n",
       "      <td>10.783077</td>\n",
       "      <td>7.164058</td>\n",
       "      <td>5.249952</td>\n",
       "      <td>2.411805</td>\n",
       "      <td>1.694893</td>\n",
       "      <td>3.021274</td>\n",
       "      <td>2.020691</td>\n",
       "      <td>0.933585</td>\n",
       "    </tr>\n",
       "    <tr>\n",
       "      <th>min</th>\n",
       "      <td>0.000000</td>\n",
       "      <td>0.995000</td>\n",
       "      <td>22.000000</td>\n",
       "      <td>118.500000</td>\n",
       "      <td>29.500000</td>\n",
       "      <td>18.100000</td>\n",
       "      <td>31.100000</td>\n",
       "      <td>79.300000</td>\n",
       "      <td>69.400000</td>\n",
       "      <td>85.000000</td>\n",
       "      <td>47.200000</td>\n",
       "      <td>33.000000</td>\n",
       "      <td>19.100000</td>\n",
       "      <td>24.800000</td>\n",
       "      <td>21.000000</td>\n",
       "      <td>15.800000</td>\n",
       "    </tr>\n",
       "    <tr>\n",
       "      <th>25%</th>\n",
       "      <td>12.800000</td>\n",
       "      <td>1.041400</td>\n",
       "      <td>35.750000</td>\n",
       "      <td>159.000000</td>\n",
       "      <td>68.250000</td>\n",
       "      <td>23.100000</td>\n",
       "      <td>36.400000</td>\n",
       "      <td>94.350000</td>\n",
       "      <td>84.575000</td>\n",
       "      <td>95.500000</td>\n",
       "      <td>56.000000</td>\n",
       "      <td>36.975000</td>\n",
       "      <td>22.000000</td>\n",
       "      <td>30.200000</td>\n",
       "      <td>27.300000</td>\n",
       "      <td>17.600000</td>\n",
       "    </tr>\n",
       "    <tr>\n",
       "      <th>50%</th>\n",
       "      <td>19.000000</td>\n",
       "      <td>1.054900</td>\n",
       "      <td>43.000000</td>\n",
       "      <td>176.500000</td>\n",
       "      <td>70.000000</td>\n",
       "      <td>25.050000</td>\n",
       "      <td>38.000000</td>\n",
       "      <td>99.650000</td>\n",
       "      <td>90.950000</td>\n",
       "      <td>99.300000</td>\n",
       "      <td>59.000000</td>\n",
       "      <td>38.500000</td>\n",
       "      <td>22.800000</td>\n",
       "      <td>32.050000</td>\n",
       "      <td>28.700000</td>\n",
       "      <td>18.300000</td>\n",
       "    </tr>\n",
       "    <tr>\n",
       "      <th>75%</th>\n",
       "      <td>24.600000</td>\n",
       "      <td>1.070400</td>\n",
       "      <td>54.000000</td>\n",
       "      <td>197.000000</td>\n",
       "      <td>72.250000</td>\n",
       "      <td>27.325000</td>\n",
       "      <td>39.425000</td>\n",
       "      <td>105.375000</td>\n",
       "      <td>99.325000</td>\n",
       "      <td>103.525000</td>\n",
       "      <td>62.350000</td>\n",
       "      <td>39.925000</td>\n",
       "      <td>24.000000</td>\n",
       "      <td>34.325000</td>\n",
       "      <td>30.000000</td>\n",
       "      <td>18.800000</td>\n",
       "    </tr>\n",
       "    <tr>\n",
       "      <th>max</th>\n",
       "      <td>45.100000</td>\n",
       "      <td>1.108900</td>\n",
       "      <td>81.000000</td>\n",
       "      <td>363.150000</td>\n",
       "      <td>77.750000</td>\n",
       "      <td>48.900000</td>\n",
       "      <td>51.200000</td>\n",
       "      <td>136.200000</td>\n",
       "      <td>148.100000</td>\n",
       "      <td>147.700000</td>\n",
       "      <td>87.300000</td>\n",
       "      <td>49.100000</td>\n",
       "      <td>33.900000</td>\n",
       "      <td>45.000000</td>\n",
       "      <td>34.900000</td>\n",
       "      <td>21.400000</td>\n",
       "    </tr>\n",
       "  </tbody>\n",
       "</table>\n",
       "</div>"
      ],
      "text/plain": [
       "          BODYFAT     DENSITY         AGE      WEIGHT      HEIGHT   ADIPOSITY  \\\n",
       "count  252.000000  252.000000  252.000000  252.000000  252.000000  252.000000   \n",
       "mean    18.938492    1.055574   44.884921  178.924405   70.148810   25.436905   \n",
       "std      7.750856    0.019031   12.602040   29.389160    3.662856    3.648111   \n",
       "min      0.000000    0.995000   22.000000  118.500000   29.500000   18.100000   \n",
       "25%     12.800000    1.041400   35.750000  159.000000   68.250000   23.100000   \n",
       "50%     19.000000    1.054900   43.000000  176.500000   70.000000   25.050000   \n",
       "75%     24.600000    1.070400   54.000000  197.000000   72.250000   27.325000   \n",
       "max     45.100000    1.108900   81.000000  363.150000   77.750000   48.900000   \n",
       "\n",
       "             NECK       CHEST     ABDOMEN         HIP       THIGH        KNEE  \\\n",
       "count  252.000000  252.000000  252.000000  252.000000  252.000000  252.000000   \n",
       "mean    37.992063  100.824206   92.555952   99.904762   59.405952   38.590476   \n",
       "std      2.430913    8.430476   10.783077    7.164058    5.249952    2.411805   \n",
       "min     31.100000   79.300000   69.400000   85.000000   47.200000   33.000000   \n",
       "25%     36.400000   94.350000   84.575000   95.500000   56.000000   36.975000   \n",
       "50%     38.000000   99.650000   90.950000   99.300000   59.000000   38.500000   \n",
       "75%     39.425000  105.375000   99.325000  103.525000   62.350000   39.925000   \n",
       "max     51.200000  136.200000  148.100000  147.700000   87.300000   49.100000   \n",
       "\n",
       "            ANKLE      BICEPS     FOREARM       WRIST  \n",
       "count  252.000000  252.000000  252.000000  252.000000  \n",
       "mean    23.102381   32.273413   28.663889   18.229762  \n",
       "std      1.694893    3.021274    2.020691    0.933585  \n",
       "min     19.100000   24.800000   21.000000   15.800000  \n",
       "25%     22.000000   30.200000   27.300000   17.600000  \n",
       "50%     22.800000   32.050000   28.700000   18.300000  \n",
       "75%     24.000000   34.325000   30.000000   18.800000  \n",
       "max     33.900000   45.000000   34.900000   21.400000  "
      ]
     },
     "execution_count": 5,
     "metadata": {},
     "output_type": "execute_result"
    }
   ],
   "source": [
    "data.describe()"
   ]
  },
  {
   "cell_type": "markdown",
   "metadata": {},
   "source": [
    "From the description table, we can see that there may have some outliers. For example, the minimum value of bodyfat is 0. \n",
    "\n",
    "Let's plot it to get a better idea of what the data looks like."
   ]
  },
  {
   "cell_type": "code",
   "execution_count": 6,
   "metadata": {
    "scrolled": true
   },
   "outputs": [
    {
     "data": {
      "text/plain": [
       "Text(0, 0.5, 'Frequency')"
      ]
     },
     "execution_count": 6,
     "metadata": {},
     "output_type": "execute_result"
    },
    {
     "data": {
      "image/png": "[encoded data removed]",
      "text/plain": [
       "<Figure size 432x288 with 1 Axes>"
      ]
     },
     "metadata": {
      "needs_background": "light"
     },
     "output_type": "display_data"
    }
   ],
   "source": [
    "hist = plt.hist(data.BODYFAT, bins=20)\n",
    "for i in range(0,20):\n",
    "    plt.text(hist[1][i], hist[0][i], str(hist[0][i]))\n",
    "plt.xlabel('BODYFAT(%)')\n",
    "plt.ylabel('Frequency')"
   ]
  },
  {
   "cell_type": "markdown",
   "metadata": {},
   "source": [
    "It seems like that we don't need do variable transformation and majority of individuals have a healthy body fat percentage."
   ]
  },
  {
   "cell_type": "markdown",
   "metadata": {},
   "source": [
    "### The relationship between BODYFAT and DENSITY\n",
    "According to Siri's equation, we want to check the linear relationship between DENSITY and BODYFAT. In the meanwhile, this linear relationship can help us identify some incorrect values."
   ]
  },
  {
   "cell_type": "code",
   "execution_count": 7,
   "metadata": {},
   "outputs": [
    {
     "data": {
      "text/plain": [
       "Text(0.5, 1.0, 'DENSITY vs BODYFAT(%)')"
      ]
     },
     "execution_count": 7,
     "metadata": {},
     "output_type": "execute_result"
    },
    {
     "data": {
      "image/png": "[encoded data removed]",
      "text/plain": [
       "<Figure size 432x288 with 1 Axes>"
      ]
     },
     "metadata": {
      "needs_background": "light"
     },
     "output_type": "display_data"
    }
   ],
   "source": [
    "# check the incorrect data points\n",
    "## relationship of BODYFAT and DENSITY\n",
    "for i,index in enumerate(data.index):\n",
    "    x = data.DENSITY.values[i]\n",
    "    y = data.BODYFAT.values[i]\n",
    "    plt.scatter(x, y, marker = 'x', color = 'red')\n",
    "    plt.text(x, y + 0.3, index)\n",
    "plt.xlabel('DENSITY')\n",
    "plt.ylabel('BODYFAT(%)')\n",
    "plt.title('DENSITY vs BODYFAT(%)')"
   ]
  },
  {
   "cell_type": "code",
   "execution_count": 8,
   "metadata": {},
   "outputs": [
    {
     "data": {
      "text/html": [
       "<div>\n",
       "<style scoped>\n",
       "    .dataframe tbody tr th:only-of-type {\n",
       "        vertical-align: middle;\n",
       "    }\n",
       "\n",
       "    .dataframe tbody tr th {\n",
       "        vertical-align: top;\n",
       "    }\n",
       "\n",
       "    .dataframe thead th {\n",
       "        text-align: right;\n",
       "    }\n",
       "</style>\n",
       "<table border=\"1\" class=\"dataframe\">\n",
       "  <thead>\n",
       "    <tr style=\"text-align: right;\">\n",
       "      <th></th>\n",
       "      <th>BODYFAT</th>\n",
       "      <th>DENSITY</th>\n",
       "      <th>AGE</th>\n",
       "      <th>WEIGHT</th>\n",
       "      <th>HEIGHT</th>\n",
       "      <th>ADIPOSITY</th>\n",
       "      <th>NECK</th>\n",
       "      <th>CHEST</th>\n",
       "      <th>ABDOMEN</th>\n",
       "      <th>HIP</th>\n",
       "      <th>THIGH</th>\n",
       "      <th>KNEE</th>\n",
       "      <th>ANKLE</th>\n",
       "      <th>BICEPS</th>\n",
       "      <th>FOREARM</th>\n",
       "      <th>WRIST</th>\n",
       "    </tr>\n",
       "    <tr>\n",
       "      <th>IDNO</th>\n",
       "      <th></th>\n",
       "      <th></th>\n",
       "      <th></th>\n",
       "      <th></th>\n",
       "      <th></th>\n",
       "      <th></th>\n",
       "      <th></th>\n",
       "      <th></th>\n",
       "      <th></th>\n",
       "      <th></th>\n",
       "      <th></th>\n",
       "      <th></th>\n",
       "      <th></th>\n",
       "      <th></th>\n",
       "      <th></th>\n",
       "      <th></th>\n",
       "    </tr>\n",
       "  </thead>\n",
       "  <tbody>\n",
       "    <tr>\n",
       "      <th>48</th>\n",
       "      <td>6.4</td>\n",
       "      <td>1.0665</td>\n",
       "      <td>39</td>\n",
       "      <td>148.50</td>\n",
       "      <td>71.25</td>\n",
       "      <td>20.6</td>\n",
       "      <td>34.6</td>\n",
       "      <td>89.8</td>\n",
       "      <td>79.5</td>\n",
       "      <td>92.7</td>\n",
       "      <td>52.7</td>\n",
       "      <td>37.5</td>\n",
       "      <td>21.9</td>\n",
       "      <td>28.8</td>\n",
       "      <td>26.8</td>\n",
       "      <td>17.9</td>\n",
       "    </tr>\n",
       "    <tr>\n",
       "      <th>76</th>\n",
       "      <td>18.3</td>\n",
       "      <td>1.0666</td>\n",
       "      <td>61</td>\n",
       "      <td>148.25</td>\n",
       "      <td>67.50</td>\n",
       "      <td>22.9</td>\n",
       "      <td>36.0</td>\n",
       "      <td>91.6</td>\n",
       "      <td>81.8</td>\n",
       "      <td>94.8</td>\n",
       "      <td>54.5</td>\n",
       "      <td>37.0</td>\n",
       "      <td>21.4</td>\n",
       "      <td>29.3</td>\n",
       "      <td>27.0</td>\n",
       "      <td>18.3</td>\n",
       "    </tr>\n",
       "    <tr>\n",
       "      <th>96</th>\n",
       "      <td>17.3</td>\n",
       "      <td>1.0991</td>\n",
       "      <td>53</td>\n",
       "      <td>224.50</td>\n",
       "      <td>77.75</td>\n",
       "      <td>26.1</td>\n",
       "      <td>41.1</td>\n",
       "      <td>113.2</td>\n",
       "      <td>99.2</td>\n",
       "      <td>107.5</td>\n",
       "      <td>61.7</td>\n",
       "      <td>42.3</td>\n",
       "      <td>23.2</td>\n",
       "      <td>32.9</td>\n",
       "      <td>30.8</td>\n",
       "      <td>20.4</td>\n",
       "    </tr>\n",
       "    <tr>\n",
       "      <th>182</th>\n",
       "      <td>0.0</td>\n",
       "      <td>1.1089</td>\n",
       "      <td>40</td>\n",
       "      <td>118.50</td>\n",
       "      <td>68.00</td>\n",
       "      <td>18.1</td>\n",
       "      <td>33.8</td>\n",
       "      <td>79.3</td>\n",
       "      <td>69.4</td>\n",
       "      <td>85.0</td>\n",
       "      <td>47.2</td>\n",
       "      <td>33.5</td>\n",
       "      <td>20.2</td>\n",
       "      <td>27.7</td>\n",
       "      <td>24.6</td>\n",
       "      <td>16.5</td>\n",
       "    </tr>\n",
       "  </tbody>\n",
       "</table>\n",
       "</div>"
      ],
      "text/plain": [
       "      BODYFAT  DENSITY  AGE  WEIGHT  HEIGHT  ADIPOSITY  NECK  CHEST  ABDOMEN  \\\n",
       "IDNO                                                                           \n",
       "48        6.4   1.0665   39  148.50   71.25       20.6  34.6   89.8     79.5   \n",
       "76       18.3   1.0666   61  148.25   67.50       22.9  36.0   91.6     81.8   \n",
       "96       17.3   1.0991   53  224.50   77.75       26.1  41.1  113.2     99.2   \n",
       "182       0.0   1.1089   40  118.50   68.00       18.1  33.8   79.3     69.4   \n",
       "\n",
       "        HIP  THIGH  KNEE  ANKLE  BICEPS  FOREARM  WRIST  \n",
       "IDNO                                                     \n",
       "48     92.7   52.7  37.5   21.9    28.8     26.8   17.9  \n",
       "76     94.8   54.5  37.0   21.4    29.3     27.0   18.3  \n",
       "96    107.5   61.7  42.3   23.2    32.9     30.8   20.4  \n",
       "182    85.0   47.2  33.5   20.2    27.7     24.6   16.5  "
      ]
     },
     "execution_count": 8,
     "metadata": {},
     "output_type": "execute_result"
    }
   ],
   "source": [
    "data.loc[[48,76,96,182]]"
   ]
  },
  {
   "cell_type": "markdown",
   "metadata": {},
   "source": [
    "No.182 has 0 body fat percentage which is impossible. Suppose his DENSITY is correctly recorded, then according to the fitted line, we impute a negative value of his bodyfat. That's not reasonable. Thus we have to delete this data point.\n",
    "\n",
    "As for the other three data points, we have no idea about either BODYFAT or DENSITY is correct since their other attributes are in a normal range. So we decided to delete them all."
   ]
  },
  {
   "cell_type": "code",
   "execution_count": 9,
   "metadata": {},
   "outputs": [],
   "source": [
    "data = data.drop(index=[48,76,96,182], columns='DENSITY')"
   ]
  },
  {
   "cell_type": "markdown",
   "metadata": {},
   "source": [
    "### The relationship among ADIPOSTIY, WEIGHT and HEIGHT\n",
    "ADIPOSITY is also known as BMI, a function of WEIGHT(lbs) and HEIGHT(inches). \n",
    "\n",
    "BMI is defined as  \n",
    "$$BMI = \\frac {703\\times WEIGHT}{{HEIGHT}^2} $$ \n",
    "\n",
    "According to this formula, we can find out those wrongly recorded data."
   ]
  },
  {
   "cell_type": "code",
   "execution_count": 10,
   "metadata": {},
   "outputs": [
    {
     "data": {
      "text/plain": [
       "Text(0.5, 1.0, 'BMI plot')"
      ]
     },
     "execution_count": 10,
     "metadata": {},
     "output_type": "execute_result"
    },
    {
     "data": {
      "image/png": "[encoded data removed]",
      "text/plain": [
       "<Figure size 432x288 with 1 Axes>"
      ]
     },
     "metadata": {
      "needs_background": "light"
     },
     "output_type": "display_data"
    }
   ],
   "source": [
    "## relationship of ADIPOSITY, WEIGHT, HEIGHT\n",
    "for i, index in enumerate(data.index):\n",
    "    x = data.WEIGHT.values[i]/(data.HEIGHT.values[i])**2 * 703\n",
    "    y = data.ADIPOSITY.values[i]\n",
    "    plt.scatter(x, y ,marker='x', color='red')\n",
    "    plt.text(x, y+0.3, index)\n",
    "plt.xlabel('Theoretical BMI(lbs/inches^2)')\n",
    "plt.ylabel('Actual BMI(lbs/inches^2)')\n",
    "plt.title('BMI plot')"
   ]
  },
  {
   "cell_type": "markdown",
   "metadata": {},
   "source": [
    "The plot above shows that No.42 is an strong influential point. If we dig into the data, we will notice the height of this guy is 29.5 inch but the weight is 205 lbs. The BMI calculated by the formula will be 165.6, which is impossible."
   ]
  },
  {
   "cell_type": "code",
   "execution_count": 11,
   "metadata": {},
   "outputs": [
    {
     "data": {
      "text/html": [
       "<div>\n",
       "<style scoped>\n",
       "    .dataframe tbody tr th:only-of-type {\n",
       "        vertical-align: middle;\n",
       "    }\n",
       "\n",
       "    .dataframe tbody tr th {\n",
       "        vertical-align: top;\n",
       "    }\n",
       "\n",
       "    .dataframe thead th {\n",
       "        text-align: right;\n",
       "    }\n",
       "</style>\n",
       "<table border=\"1\" class=\"dataframe\">\n",
       "  <thead>\n",
       "    <tr style=\"text-align: right;\">\n",
       "      <th></th>\n",
       "      <th>BODYFAT</th>\n",
       "      <th>AGE</th>\n",
       "      <th>WEIGHT</th>\n",
       "      <th>HEIGHT</th>\n",
       "      <th>ADIPOSITY</th>\n",
       "      <th>NECK</th>\n",
       "      <th>CHEST</th>\n",
       "      <th>ABDOMEN</th>\n",
       "      <th>HIP</th>\n",
       "      <th>THIGH</th>\n",
       "      <th>KNEE</th>\n",
       "      <th>ANKLE</th>\n",
       "      <th>BICEPS</th>\n",
       "      <th>FOREARM</th>\n",
       "      <th>WRIST</th>\n",
       "    </tr>\n",
       "    <tr>\n",
       "      <th>IDNO</th>\n",
       "      <th></th>\n",
       "      <th></th>\n",
       "      <th></th>\n",
       "      <th></th>\n",
       "      <th></th>\n",
       "      <th></th>\n",
       "      <th></th>\n",
       "      <th></th>\n",
       "      <th></th>\n",
       "      <th></th>\n",
       "      <th></th>\n",
       "      <th></th>\n",
       "      <th></th>\n",
       "      <th></th>\n",
       "      <th></th>\n",
       "    </tr>\n",
       "  </thead>\n",
       "  <tbody>\n",
       "    <tr>\n",
       "      <th>42</th>\n",
       "      <td>31.7</td>\n",
       "      <td>44</td>\n",
       "      <td>205.0</td>\n",
       "      <td>29.5</td>\n",
       "      <td>29.9</td>\n",
       "      <td>36.6</td>\n",
       "      <td>106.0</td>\n",
       "      <td>104.3</td>\n",
       "      <td>115.5</td>\n",
       "      <td>70.6</td>\n",
       "      <td>42.5</td>\n",
       "      <td>23.7</td>\n",
       "      <td>33.6</td>\n",
       "      <td>28.7</td>\n",
       "      <td>17.4</td>\n",
       "    </tr>\n",
       "  </tbody>\n",
       "</table>\n",
       "</div>"
      ],
      "text/plain": [
       "      BODYFAT  AGE  WEIGHT  HEIGHT  ADIPOSITY  NECK  CHEST  ABDOMEN    HIP  \\\n",
       "IDNO                                                                         \n",
       "42       31.7   44   205.0    29.5       29.9  36.6  106.0    104.3  115.5   \n",
       "\n",
       "      THIGH  KNEE  ANKLE  BICEPS  FOREARM  WRIST  \n",
       "IDNO                                              \n",
       "42     70.6  42.5   23.7    33.6     28.7   17.4  "
      ]
     },
     "execution_count": 11,
     "metadata": {},
     "output_type": "execute_result"
    }
   ],
   "source": [
    "data.loc[[42]]"
   ]
  },
  {
   "cell_type": "code",
   "execution_count": 12,
   "metadata": {},
   "outputs": [],
   "source": [
    "data = data.drop(index=42)"
   ]
  },
  {
   "cell_type": "code",
   "execution_count": 13,
   "metadata": {},
   "outputs": [
    {
     "data": {
      "text/plain": [
       "Text(0.5, 1.0, 'BMI plot')"
      ]
     },
     "execution_count": 13,
     "metadata": {},
     "output_type": "execute_result"
    },
    {
     "data": {
      "image/png": "[encoded data removed]",
      "text/plain": [
       "<Figure size 432x288 with 1 Axes>"
      ]
     },
     "metadata": {
      "needs_background": "light"
     },
     "output_type": "display_data"
    }
   ],
   "source": [
    "# recheck\n",
    "for i, index in enumerate(data.index):\n",
    "    x = data.WEIGHT.values[i]/(data.HEIGHT.values[i])**2 * 703\n",
    "    y = data.ADIPOSITY.values[i]\n",
    "    plt.scatter(x, y ,marker='x', color='red')\n",
    "    plt.text(x, y+0.3, index)\n",
    "plt.xlabel('Theoretical BMI(lbs/inches^2)')\n",
    "plt.ylabel('Actual BMI(lbs/inches^2)')\n",
    "plt.title('BMI plot')"
   ]
  },
  {
   "cell_type": "code",
   "execution_count": 14,
   "metadata": {},
   "outputs": [
    {
     "data": {
      "text/html": [
       "<div>\n",
       "<style scoped>\n",
       "    .dataframe tbody tr th:only-of-type {\n",
       "        vertical-align: middle;\n",
       "    }\n",
       "\n",
       "    .dataframe tbody tr th {\n",
       "        vertical-align: top;\n",
       "    }\n",
       "\n",
       "    .dataframe thead th {\n",
       "        text-align: right;\n",
       "    }\n",
       "</style>\n",
       "<table border=\"1\" class=\"dataframe\">\n",
       "  <thead>\n",
       "    <tr style=\"text-align: right;\">\n",
       "      <th></th>\n",
       "      <th>BODYFAT</th>\n",
       "      <th>AGE</th>\n",
       "      <th>WEIGHT</th>\n",
       "      <th>HEIGHT</th>\n",
       "      <th>ADIPOSITY</th>\n",
       "      <th>NECK</th>\n",
       "      <th>CHEST</th>\n",
       "      <th>ABDOMEN</th>\n",
       "      <th>HIP</th>\n",
       "      <th>THIGH</th>\n",
       "      <th>KNEE</th>\n",
       "      <th>ANKLE</th>\n",
       "      <th>BICEPS</th>\n",
       "      <th>FOREARM</th>\n",
       "      <th>WRIST</th>\n",
       "    </tr>\n",
       "    <tr>\n",
       "      <th>IDNO</th>\n",
       "      <th></th>\n",
       "      <th></th>\n",
       "      <th></th>\n",
       "      <th></th>\n",
       "      <th></th>\n",
       "      <th></th>\n",
       "      <th></th>\n",
       "      <th></th>\n",
       "      <th></th>\n",
       "      <th></th>\n",
       "      <th></th>\n",
       "      <th></th>\n",
       "      <th></th>\n",
       "      <th></th>\n",
       "      <th></th>\n",
       "    </tr>\n",
       "  </thead>\n",
       "  <tbody>\n",
       "    <tr>\n",
       "      <th>163</th>\n",
       "      <td>13.3</td>\n",
       "      <td>33</td>\n",
       "      <td>184.25</td>\n",
       "      <td>68.75</td>\n",
       "      <td>24.4</td>\n",
       "      <td>40.7</td>\n",
       "      <td>98.9</td>\n",
       "      <td>92.1</td>\n",
       "      <td>103.5</td>\n",
       "      <td>64.0</td>\n",
       "      <td>37.3</td>\n",
       "      <td>23.5</td>\n",
       "      <td>33.5</td>\n",
       "      <td>30.6</td>\n",
       "      <td>19.7</td>\n",
       "    </tr>\n",
       "    <tr>\n",
       "      <th>221</th>\n",
       "      <td>12.7</td>\n",
       "      <td>54</td>\n",
       "      <td>153.25</td>\n",
       "      <td>70.50</td>\n",
       "      <td>24.5</td>\n",
       "      <td>38.5</td>\n",
       "      <td>99.0</td>\n",
       "      <td>91.8</td>\n",
       "      <td>96.2</td>\n",
       "      <td>57.7</td>\n",
       "      <td>38.1</td>\n",
       "      <td>23.9</td>\n",
       "      <td>31.4</td>\n",
       "      <td>29.9</td>\n",
       "      <td>18.9</td>\n",
       "    </tr>\n",
       "  </tbody>\n",
       "</table>\n",
       "</div>"
      ],
      "text/plain": [
       "      BODYFAT  AGE  WEIGHT  HEIGHT  ADIPOSITY  NECK  CHEST  ABDOMEN    HIP  \\\n",
       "IDNO                                                                         \n",
       "163      13.3   33  184.25   68.75       24.4  40.7   98.9     92.1  103.5   \n",
       "221      12.7   54  153.25   70.50       24.5  38.5   99.0     91.8   96.2   \n",
       "\n",
       "      THIGH  KNEE  ANKLE  BICEPS  FOREARM  WRIST  \n",
       "IDNO                                              \n",
       "163    64.0  37.3   23.5    33.5     30.6   19.7  \n",
       "221    57.7  38.1   23.9    31.4     29.9   18.9  "
      ]
     },
     "execution_count": 14,
     "metadata": {},
     "output_type": "execute_result"
    }
   ],
   "source": [
    "data.loc[[163, 221]]"
   ]
  },
  {
   "cell_type": "markdown",
   "metadata": {},
   "source": [
    "Since we have no idea about which variable is incorrect in No.163 and No.221, we decided to delete both data points."
   ]
  },
  {
   "cell_type": "code",
   "execution_count": 15,
   "metadata": {},
   "outputs": [],
   "source": [
    "data = data.drop(index=[163,221])"
   ]
  },
  {
   "cell_type": "code",
   "execution_count": 16,
   "metadata": {},
   "outputs": [
    {
     "data": {
      "text/plain": [
       "Text(0.5, 1.0, 'BMI plot')"
      ]
     },
     "execution_count": 16,
     "metadata": {},
     "output_type": "execute_result"
    },
    {
     "data": {
      "image/png": "[encoded data removed]",
      "text/plain": [
       "<Figure size 432x288 with 1 Axes>"
      ]
     },
     "metadata": {
      "needs_background": "light"
     },
     "output_type": "display_data"
    }
   ],
   "source": [
    "# recheck\n",
    "for i, index in enumerate(data.index):\n",
    "    x = data.WEIGHT.values[i]/(data.HEIGHT.values[i])**2 * 703\n",
    "    y = data.ADIPOSITY.values[i]\n",
    "    plt.scatter(x, y ,marker='x', color='red')\n",
    "plt.xlabel('Theoretical BMI(lbs/inches^2)')\n",
    "plt.ylabel('Actual BMI(lbs/inches^2)')\n",
    "plt.title('BMI plot')"
   ]
  },
  {
   "cell_type": "markdown",
   "metadata": {},
   "source": [
    "Now the BMI plot looks better."
   ]
  },
  {
   "cell_type": "markdown",
   "metadata": {},
   "source": [
    "### The relationship among ABDOMEN and other variables\n",
    "\n",
    "We only take ABDOMEN variable as an example."
   ]
  },
  {
   "cell_type": "code",
   "execution_count": 17,
   "metadata": {},
   "outputs": [
    {
     "data": {
      "text/plain": [
       "<seaborn.axisgrid.PairGrid at 0x7f200c80f390>"
      ]
     },
     "execution_count": 17,
     "metadata": {},
     "output_type": "execute_result"
    },
    {
     "data": {
      "image/png": "[encoded data removed]",
      "text/plain": [
       "<Figure size 720x720 with 20 Axes>"
      ]
     },
     "metadata": {
      "needs_background": "light"
     },
     "output_type": "display_data"
    }
   ],
   "source": [
    "sns.pairplot(data[['ABDOMEN', 'HIP', 'THIGH', 'KNEE']])"
   ]
  },
  {
   "cell_type": "markdown",
   "metadata": {},
   "source": [
    "As the pairplot shown, there are strong positive correlations among ABDOMEN, HIP, THIGH, KNEE. Hence, we need be careful about the multicollinearity problem."
   ]
  },
  {
   "cell_type": "markdown",
   "metadata": {},
   "source": [
    "## Step 2: Model Selection\n",
    "\n",
    "First, we split the data into training part (80% of the whole data) and test part (20%) in case of overfitting on the whole dataset."
   ]
  },
  {
   "cell_type": "code",
   "execution_count": 18,
   "metadata": {},
   "outputs": [],
   "source": [
    "X = data.drop('BODYFAT',axis=1)\n",
    "Y = data.BODYFAT\n",
    "from sklearn.model_selection import train_test_split\n",
    "X_train, X_test, Y_train, Y_test = train_test_split(X, Y, test_size = 0.2,random_state = 1234)"
   ]
  },
  {
   "cell_type": "code",
   "execution_count": 19,
   "metadata": {},
   "outputs": [],
   "source": [
    "# Helper function to fit the linear regression model.\n",
    "def fit_linear_reg(X,Y):\n",
    "    model_k = linear_model.LinearRegression(fit_intercept = True)\n",
    "    model_k.fit(X,Y)\n",
    "    RSS = mean_squared_error(Y, model_k.predict(X)) * len(Y)\n",
    "    R_squared = model_k.score(X,Y)\n",
    "    return RSS, R_squared"
   ]
  },
  {
   "cell_type": "markdown",
   "metadata": {},
   "source": [
    "### Forward stepwise selection\n",
    "For computational reasons, the best subset cannot be applied for any large $n$ due to the $2^n$ complexity.\n",
    "#### Algorithm\n",
    "Let $M_0$ denote the null model which contains no predictors\n",
    "- For $k=1,2,...,n-1$\n",
    "    - Consider all $n-k$ models that augment the predictors in $M_k$ with one additional predictor\n",
    "    - Choose the best among these $n-k$ models, and call it $M_{k+1}$ \n",
    "- Select the single best model among $M_0, M_1,...,M_n$ using Mallow's $C_p$, AIC, BIC, adjusted $R^2$ or any other method."
   ]
  },
  {
   "cell_type": "markdown",
   "metadata": {},
   "source": [
    "### Comparing models: Mallow's $C_p$, AIC, BIC and adjusted $R^2$\n",
    "\n",
    "The training set Mean Squared Error (MSE) is generally an underestimate of the test MSE. This is because when we fit a model to the training data using least squares, we specifically estimate the regression coefficients such that the training RSS is minimized. In particular, the training RSS decreases as we add more features to the model, but the test error may not. Therefore the training RSS and $R^2$ may not be used for selecting the best model unless we adjust for this underestimation.\n",
    "#### Mallow's $C_p$\n",
    "Mallow's $C_p$ is defined as:$$C_p=\\frac{1}{m}(RSS+2k\\hat{\\sigma}^2)$$\n",
    "where $\\hat{\\sigma}^2$ is an estimate of the variance of the error $\\epsilon$ associated with each response measurement. Typically, $\\hat{\\sigma}^2$ is estimated using the full model containing all predictors.\n",
    "\n",
    "Mallows's $C_p$ is equivalent to AIC in the case of (Gaussian) linear regression. And this method is not scalable.\n",
    "#### Akaike's Information Criteria (AIC)\n",
    "The AIC criterion is defined as:$$AIC = mlog(\\frac{RSS}{m})+2k$$\n",
    "#### Bayesian Information Criteria (BIC)\n",
    "The BIC criterion is defined as:$$BIC = mlog(\\frac{RSS}{m})+klog(m)$$\n",
    "#### Adjusted $R^2$\n",
    "Since the $R^2$ always increases as more variables are added, the adjusted $R^2$ accounts for that fact and introduces a penalty. The intuition is that once all the correct variables have been included in the model, additional noise variables will lead to a very small decrease in RSS, but an increase in k and hence will decrease the adjusted $R^2$. In effect, we pay a price for the inclusion of unnecessary variables in the model.\n",
    "$$R_{adj}^2=1-(1-R^2)\\frac{m-1}{m-k-1}$$"
   ]
  },
  {
   "cell_type": "markdown",
   "metadata": {},
   "source": [
    "Based on the above information, we will construct three different models: model 1 with lowest AIC, model 2 with lowest BIC and model 3 with highest adjusted $R^2$."
   ]
  },
  {
   "cell_type": "code",
   "execution_count": 20,
   "metadata": {},
   "outputs": [
    {
     "name": "stdout",
     "output_type": "stream",
     "text": [
      "Forward stepwise subset selection | AIC\n",
      "Number of features | Features \n"
     ]
    },
    {
     "data": {
      "text/plain": [
       "[(1, ['ABDOMEN']),\n",
       " (2, ['ABDOMEN', 'WEIGHT']),\n",
       " (3, ['ABDOMEN', 'WEIGHT', 'THIGH']),\n",
       " (4, ['ABDOMEN', 'WEIGHT', 'THIGH', 'FOREARM']),\n",
       " (5, ['ABDOMEN', 'WEIGHT', 'THIGH', 'FOREARM', 'WRIST'])]"
      ]
     },
     "metadata": {},
     "output_type": "display_data"
    }
   ],
   "source": [
    "# Use AIC\n",
    "k = 14\n",
    "m = len(Y_train)\n",
    "aic_remaining_features = list(X_train.columns.values)\n",
    "aic_features = []\n",
    "aic = []\n",
    "aic_features_list = dict()\n",
    "\n",
    "for i in range(1, k+1):\n",
    "    best_aic = np.inf\n",
    "    for combo in itertools.combinations(aic_remaining_features, 1):\n",
    "        RSS = fit_linear_reg(X_train[list(combo)+aic_features],Y_train)[0]\n",
    "        AIC = m*np.log(RSS/m) + 2*i\n",
    "        if AIC <= best_aic:\n",
    "            best_aic = AIC\n",
    "            best_feature = combo[0]\n",
    "    if i != 1:\n",
    "        prev = aic.pop()\n",
    "        aic.append(prev) \n",
    "        if best_aic >= prev:\n",
    "            break\n",
    "    aic_remaining_features.remove(best_feature)\n",
    "    aic_features.append(best_feature)\n",
    "        \n",
    "    aic.append(best_aic)\n",
    "    aic_features_list[i] = aic_features.copy()\n",
    "\n",
    "print('Forward stepwise subset selection | AIC')\n",
    "print('Number of features |', 'Features ')\n",
    "display([(i, aic_features_list[i]) for i in range(1,len(aic_features_list)+1)])\n",
    "v1 = aic_features_list.popitem()[1]"
   ]
  },
  {
   "cell_type": "code",
   "execution_count": 21,
   "metadata": {},
   "outputs": [
    {
     "name": "stdout",
     "output_type": "stream",
     "text": [
      "Forward stepwise subset selection | BIC\n",
      "Number of features | Features \n"
     ]
    },
    {
     "data": {
      "text/plain": [
       "[(1, ['ABDOMEN']), (2, ['ABDOMEN', 'WEIGHT'])]"
      ]
     },
     "metadata": {},
     "output_type": "display_data"
    }
   ],
   "source": [
    "# Use BIC\n",
    "m = len(Y_train)\n",
    "bic_remaining_features = list(X_train.columns.values)\n",
    "bic_features = []\n",
    "bic = []\n",
    "bic_features_list = dict()\n",
    "\n",
    "for i in range(1, k+1):\n",
    "    best_bic = np.inf\n",
    "    for combo in itertools.combinations(bic_remaining_features, 1):\n",
    "        RSS = fit_linear_reg(X_train[list(combo)+bic_features],Y_train)[0]\n",
    "        BIC = m*np.log(RSS/m) + np.log(m)*i\n",
    "        if BIC <= best_bic:\n",
    "            best_bic = BIC\n",
    "            best_feature = combo[0]\n",
    "    if i != 1:\n",
    "        prev = bic.pop()\n",
    "        bic.append(prev) \n",
    "        if best_bic >= prev:\n",
    "            break\n",
    "    bic_remaining_features.remove(best_feature)\n",
    "    bic_features.append(best_feature)\n",
    "        \n",
    "    bic.append(best_bic)\n",
    "    bic_features_list[i] = bic_features.copy()\n",
    "\n",
    "print('Forward stepwise subset selection | BIC')\n",
    "print('Number of features |', 'Features ')\n",
    "display([(i, bic_features_list[i]) for i in range(1,len(bic_features_list)+1)])\n",
    "\n",
    "v2 = bic_features_list.popitem()[1]"
   ]
  },
  {
   "cell_type": "code",
   "execution_count": 22,
   "metadata": {},
   "outputs": [
    {
     "name": "stdout",
     "output_type": "stream",
     "text": [
      "Forward stepwise subset selection | Adjusted R^2\n",
      "Number of features | Features \n"
     ]
    },
    {
     "data": {
      "text/plain": [
       "[(1, ['ABDOMEN']),\n",
       " (2, ['ABDOMEN', 'WEIGHT']),\n",
       " (3, ['ABDOMEN', 'WEIGHT', 'THIGH']),\n",
       " (4, ['ABDOMEN', 'WEIGHT', 'THIGH', 'FOREARM']),\n",
       " (5, ['ABDOMEN', 'WEIGHT', 'THIGH', 'FOREARM', 'WRIST']),\n",
       " (6, ['ABDOMEN', 'WEIGHT', 'THIGH', 'FOREARM', 'WRIST', 'ANKLE'])]"
      ]
     },
     "metadata": {},
     "output_type": "display_data"
    }
   ],
   "source": [
    "# Use adjusted R^2\n",
    "adjr_remaining_features = list(X_train.columns.values)\n",
    "adjr_features = []\n",
    "adjr = []\n",
    "adjr_features_list = dict()\n",
    "\n",
    "for i in range(1, k+1):\n",
    "    best_adjr = -np.inf\n",
    "    for combo in itertools.combinations(adjr_remaining_features, 1):\n",
    "        RSS = fit_linear_reg(X_train[list(combo)+adjr_features],Y_train)\n",
    "        ad_r2 = 1-(1-RSS[1])*(m-1)/(m-i-1)\n",
    "        if ad_r2 >= best_adjr:\n",
    "            best_adjr = ad_r2\n",
    "            best_feature = combo[0]\n",
    "    if i != 1:\n",
    "        prev = adjr.pop()\n",
    "        adjr.append(prev) \n",
    "        if best_adjr <= prev:\n",
    "            break\n",
    "    adjr_remaining_features.remove(best_feature)\n",
    "    adjr_features.append(best_feature)\n",
    "        \n",
    "    adjr.append(best_adjr)\n",
    "    adjr_features_list[i] = adjr_features.copy()\n",
    "    \n",
    "\n",
    "print('Forward stepwise subset selection | Adjusted R^2')\n",
    "print('Number of features |', 'Features ')\n",
    "display([(i, adjr_features_list[i]) for i in range(1,len(adjr_features_list)+1)])\n",
    "v3 = adjr_features_list.popitem()[1]"
   ]
  },
  {
   "cell_type": "markdown",
   "metadata": {},
   "source": [
    "### Lasso regression"
   ]
  },
  {
   "cell_type": "markdown",
   "metadata": {},
   "source": [
    "The LASSO (Least Absolute Shrinkage and Selection Operator) is a regression method that involves penalizing the absolute size of the regression coefficients.  \n",
    "\n",
    "So target function of Lasso regression is $$f(\\beta) = RSS(\\beta) + \\lambda||\\beta||_{l_1}$$"
   ]
  },
  {
   "cell_type": "markdown",
   "metadata": {},
   "source": [
    "By penalizing (or equivalently constraining the sum of the absolute values of the estimates) you end up in a situation where some of the parameter estimates may be exactly zero. The larger the penalty applied, the further estimates are shrunk towards zero."
   ]
  },
  {
   "cell_type": "markdown",
   "metadata": {},
   "source": [
    "To find the best lambda value, we used grid search."
   ]
  },
  {
   "cell_type": "code",
   "execution_count": 23,
   "metadata": {},
   "outputs": [
    {
     "data": {
      "text/plain": [
       "Lasso(alpha=array([1.21622]), copy_X=True, fit_intercept=True, max_iter=1000,\n",
       "   normalize=False, positive=False, precompute=False, random_state=None,\n",
       "   selection='cyclic', tol=0.0001, warm_start=False)"
      ]
     },
     "execution_count": 23,
     "metadata": {},
     "output_type": "execute_result"
    }
   ],
   "source": [
    "alphas = np.linspace(1,10,1000)\n",
    "scores = np.empty_like(alphas)\n",
    "for i,a in enumerate(alphas):\n",
    "    lasso = Lasso(fit_intercept=True)\n",
    "    lasso.set_params(alpha=a)\n",
    "    lasso.fit(X_train, Y_train)\n",
    "    scores[i] = mean_squared_error(lasso.predict(X_test),Y_test)\n",
    "bestalpha = alphas[np.where(scores == np.min(scores))]\n",
    "lasso = Lasso(alpha=bestalpha,fit_intercept=True)\n",
    "lasso.fit(X_train,Y_train)"
   ]
  },
  {
   "cell_type": "code",
   "execution_count": 24,
   "metadata": {},
   "outputs": [
    {
     "name": "stdout",
     "output_type": "stream",
     "text": [
      "The lasso: ['WEIGHT' 'ABDOMEN' 'THIGH']\n",
      "           [-0.12560008  0.85151678  0.03680691]\n"
     ]
    }
   ],
   "source": [
    "print('The lasso:',X_train.columns[lasso.coef_ != 0].values)\n",
    "print('          ', lasso.coef_[lasso.coef_ != 0])"
   ]
  },
  {
   "cell_type": "code",
   "execution_count": 25,
   "metadata": {},
   "outputs": [],
   "source": [
    "# construct three models base on three criteria\n",
    "import statsmodels.api as sm\n",
    "lm_aic = sm.OLS(Y_train,sm.add_constant(X_train[v1])).fit()\n",
    "lm_bic = sm.OLS(Y_train,sm.add_constant(X_train[v2])).fit()\n",
    "lm_adjr = sm.OLS(Y_train,sm.add_constant(X_train[v3])).fit()"
   ]
  },
  {
   "cell_type": "markdown",
   "metadata": {},
   "source": [
    "There are a number of criteria that one may use; typically we choose the smallest model that minimizes an estimate of the expected prediction error. The testing set Mean Square Error of four criteria are shown as follow:"
   ]
  },
  {
   "cell_type": "code",
   "execution_count": 26,
   "metadata": {},
   "outputs": [
    {
     "name": "stdout",
     "output_type": "stream",
     "text": [
      "AIC: 12.229197745030243\n",
      "BIC: 12.994853201961279\n",
      "Adjusted R^2: 12.395451642085803\n",
      "Lasso: 13.069380876802908\n"
     ]
    }
   ],
   "source": [
    "print('AIC:',mean_squared_error(y_pred = lm_aic.predict(sm.add_constant(X_test[v1]))\n",
    "                                ,y_true=Y_test))\n",
    "print('BIC:',mean_squared_error(lm_bic.predict(sm.add_constant(X_test[v2])),Y_test))\n",
    "print('Adjusted R^2:',mean_squared_error(lm_adjr.predict(sm.add_constant(X_test[v3]))\n",
    "                                         ,Y_test))\n",
    "print('Lasso:',mean_squared_error(lasso.predict(X_test),Y_test))\n"
   ]
  },
  {
   "cell_type": "markdown",
   "metadata": {},
   "source": [
    "We can notice that there is no obvious difference among four values. According to the principle of parsimony, we choose the model generated by BIC criteria, which only includes 2 predictors (ABDOMEN, WEIGHT) and all predictors are significant at $\\alpha = 0.01$ level. We decided to use model selected by BIC criteria. "
   ]
  },
  {
   "cell_type": "code",
   "execution_count": 27,
   "metadata": {},
   "outputs": [
    {
     "name": "stdout",
     "output_type": "stream",
     "text": [
      "                            OLS Regression Results                            \n",
      "==============================================================================\n",
      "Dep. Variable:                BODYFAT   R-squared:                       0.709\n",
      "Model:                            OLS   Adj. R-squared:                  0.706\n",
      "Method:                 Least Squares   F-statistic:                     235.6\n",
      "Date:                Mon, 04 Feb 2019   Prob (F-statistic):           1.60e-52\n",
      "Time:                        20:03:16   Log-Likelihood:                -557.30\n",
      "No. Observations:                 196   AIC:                             1121.\n",
      "Df Residuals:                     193   BIC:                             1130.\n",
      "Df Model:                           2                                         \n",
      "Covariance Type:            nonrobust                                         \n",
      "==============================================================================\n",
      "                 coef    std err          t      P>|t|      [0.025      0.975]\n",
      "------------------------------------------------------------------------------\n",
      "const        -40.2748      2.780    -14.487      0.000     -45.758     -34.791\n",
      "ABDOMEN        0.9176      0.061     15.059      0.000       0.797       1.038\n",
      "WEIGHT        -0.1432      0.023     -6.346      0.000      -0.188      -0.099\n",
      "==============================================================================\n",
      "Omnibus:                        5.624   Durbin-Watson:                   1.982\n",
      "Prob(Omnibus):                  0.060   Jarque-Bera (JB):                3.218\n",
      "Skew:                          -0.069   Prob(JB):                        0.200\n",
      "Kurtosis:                       2.388   Cond. No.                     1.90e+03\n",
      "==============================================================================\n",
      "\n",
      "Warnings:\n",
      "[1] Standard Errors assume that the covariance matrix of the errors is correctly specified.\n",
      "[2] The condition number is large, 1.9e+03. This might indicate that there are\n",
      "strong multicollinearity or other numerical problems.\n"
     ]
    }
   ],
   "source": [
    "print(lm_bic.summary())"
   ]
  },
  {
   "cell_type": "markdown",
   "metadata": {},
   "source": [
    "## Step 3: Model Diagnostic"
   ]
  },
  {
   "cell_type": "markdown",
   "metadata": {},
   "source": [
    "### Multicolinearity Diagnositic\n",
    "Suppose we have $X_i = X_{j_1} + X_{j_2} + ... + X_{j_q} + \\epsilon$. If we find that $\\frac{1}{1-R^2} > 10$, i.e.       $R^2>0.9$ which means over 90% of $X_i$'s variability can be explained by other X variables. In such case, multicolinearity does exist."
   ]
  },
  {
   "cell_type": "markdown",
   "metadata": {},
   "source": [
    "#### Identify Variance Inflation Factor\n",
    "\n",
    "In statistics, the variance inflation factor (VIF) is the ratio of variance in a model with multiple terms, divided by the variance of a model with one term alone. It quantifies the severity of multicollinearity in an ordinary least squares regression analysis. It provides an index that measures how much the variance (the square of the estimate's standard deviation) of an estimated regression coefficient is increased because of collinearity."
   ]
  },
  {
   "cell_type": "code",
   "execution_count": 28,
   "metadata": {},
   "outputs": [
    {
     "name": "stdout",
     "output_type": "stream",
     "text": [
      "   VIF Factor features\n",
      "0   162.64409  ABDOMEN\n",
      "1   162.64409   WEIGHT\n"
     ]
    }
   ],
   "source": [
    "from statsmodels.stats.outliers_influence import variance_inflation_factor\n",
    "vif = pd.DataFrame()\n",
    "vif[\"VIF Factor\"] = [variance_inflation_factor(X_train[['ABDOMEN','WEIGHT']].values, i) for i in range(X_train[['ABDOMEN','WEIGHT']].shape[1])]\n",
    "vif[\"features\"] = ['ABDOMEN','WEIGHT']\n",
    "print(vif)"
   ]
  },
  {
   "cell_type": "markdown",
   "metadata": {},
   "source": [
    "Analyze the magnitude of multicollinearity by considering the size of the $VIF$. A rule of thumb is that if $VIF > 10$ then multicollinearity is high. Hence, we need drop WEIGHT due to the small effect size compared with ABDOMEN. "
   ]
  },
  {
   "cell_type": "code",
   "execution_count": 29,
   "metadata": {},
   "outputs": [],
   "source": [
    "lm_bic = sm.OLS(Y_train,sm.add_constant(X_train['ABDOMEN'])).fit()"
   ]
  },
  {
   "cell_type": "code",
   "execution_count": 30,
   "metadata": {
    "scrolled": true
   },
   "outputs": [
    {
     "data": {
      "text/plain": [
       "<matplotlib.legend.Legend at 0x7f20025f2be0>"
      ]
     },
     "execution_count": 30,
     "metadata": {},
     "output_type": "execute_result"
    },
    {
     "data": {
      "image/png": "[encoded data removed]",
      "text/plain": [
       "<Figure size 432x288 with 1 Axes>"
      ]
     },
     "metadata": {
      "needs_background": "light"
     },
     "output_type": "display_data"
    }
   ],
   "source": [
    "import matplotlib.lines as mlines\n",
    "plt.plot(X_train.ABDOMEN,Y_train,'bo')\n",
    "plt.plot(X_train.ABDOMEN,lm_bic.predict(sm.add_constant(X_train['ABDOMEN'])),'r')\n",
    "plt.xlabel('ABDOMEN(cm)')\n",
    "plt.ylabel('BODYFAT(%)')\n",
    "blue_line = mlines.Line2D([], [], color='red',\n",
    "                          markersize=15, label='slope=0.57, intercept=-33.83')\n",
    "plt.title('Scatter plot of BODYFAT')\n",
    "plt.legend(handles = [blue_line])"
   ]
  },
  {
   "cell_type": "markdown",
   "metadata": {},
   "source": [
    "### Dectection of outliers and influential points\n",
    "\n",
    "We use a specific object provided by the regression result to identify three types of outliers:\n",
    "\n",
    "- Leverage point\n",
    "\n",
    "For the leverage, the threshold value may be:\n",
    "$$s_h=2\\times \\frac{k+1}{m}$$\n",
    "\n",
    "An observation is suspicious if $h_i > s_h$\n",
    "- Influential point\n",
    "\n",
    "Influential point changes the slope (most likely also has high leverage) - run the regression with and without that point to determine.\n",
    "\n",
    "- Outlier\n",
    "\n",
    "Outlier is an unusual point without these special characteristics (this one likely affects the intercept only)\n",
    "\n",
    "Method to combine \"outlyingness\" ($t_i$) & leverage ($h_{ii}$):\n",
    "\n",
    "Cook's distance:\n",
    "\n",
    "$$D_i = \\sum_j\\frac{(\\hat{Y}_j-\\hat{Y}_{j(i)})^2}{(k+1)*MSE},\n",
    "D_i = \\frac{\\epsilon_i^2}{(k+1)*MSE}\\frac{h_{ii}}{(1-h_{ii})^2}$$\n",
    "\n",
    "Rules of thumb:\n",
    "\n",
    "$D_i > 0.1 $ means outlier"
   ]
  },
  {
   "cell_type": "code",
   "execution_count": 31,
   "metadata": {},
   "outputs": [
    {
     "data": {
      "image/png": "[encoded data removed]",
      "text/plain": [
       "<Figure size 432x288 with 1 Axes>"
      ]
     },
     "metadata": {
      "needs_background": "light"
     },
     "output_type": "display_data"
    }
   ],
   "source": [
    "# leverage vs standardized residuals\n",
    "v2 = 'ABDOMEN'\n",
    "Y_predicted = lm_bic.predict(sm.add_constant(X_train[v2]))\n",
    "residuals = Y_train - Y_predicted\n",
    "std_res = (residuals-np.mean(residuals))/np.std(residuals)\n",
    "X = sm.add_constant((X_train[v2]-np.mean(X_train[v2]))/np.std(X_train[v2]))\n",
    "hat = X.dot(np.linalg.inv(X.T.dot(X)).dot(X.T))\n",
    "hat_diag = np.diag(hat)\n",
    "plt.plot(hat_diag,std_res,'bo')\n",
    "plt.xlabel('Leverage')\n",
    "plt.ylabel('Standardized Residuals')\n",
    "plt.title('Leverage vs Standardized Residuals')\n",
    "sh = 2*2/len(Y_train)\n",
    "plt.plot([sh,sh],[-4,2], 'r')\n",
    "suspicious1 = np.where(hat_diag > sh)[0]\n",
    "for i in suspicious1:\n",
    "    plt.text(hat_diag[i],std_res.iloc[i]+0.1,str(X_train.index[i]))"
   ]
  },
  {
   "cell_type": "markdown",
   "metadata": {},
   "source": [
    "Note there is one data point (No.39) that has a high leverage  (~ 0.14) than all the other points and the absolute value of standardized residual is about 4. To identify this point: "
   ]
  },
  {
   "cell_type": "code",
   "execution_count": 32,
   "metadata": {},
   "outputs": [
    {
     "data": {
      "text/html": [
       "<div>\n",
       "<style scoped>\n",
       "    .dataframe tbody tr th:only-of-type {\n",
       "        vertical-align: middle;\n",
       "    }\n",
       "\n",
       "    .dataframe tbody tr th {\n",
       "        vertical-align: top;\n",
       "    }\n",
       "\n",
       "    .dataframe thead th {\n",
       "        text-align: right;\n",
       "    }\n",
       "</style>\n",
       "<table border=\"1\" class=\"dataframe\">\n",
       "  <thead>\n",
       "    <tr style=\"text-align: right;\">\n",
       "      <th></th>\n",
       "      <th>BODYFAT</th>\n",
       "      <th>AGE</th>\n",
       "      <th>WEIGHT</th>\n",
       "      <th>HEIGHT</th>\n",
       "      <th>ADIPOSITY</th>\n",
       "      <th>NECK</th>\n",
       "      <th>CHEST</th>\n",
       "      <th>ABDOMEN</th>\n",
       "      <th>HIP</th>\n",
       "      <th>THIGH</th>\n",
       "      <th>KNEE</th>\n",
       "      <th>ANKLE</th>\n",
       "      <th>BICEPS</th>\n",
       "      <th>FOREARM</th>\n",
       "      <th>WRIST</th>\n",
       "    </tr>\n",
       "    <tr>\n",
       "      <th>IDNO</th>\n",
       "      <th></th>\n",
       "      <th></th>\n",
       "      <th></th>\n",
       "      <th></th>\n",
       "      <th></th>\n",
       "      <th></th>\n",
       "      <th></th>\n",
       "      <th></th>\n",
       "      <th></th>\n",
       "      <th></th>\n",
       "      <th></th>\n",
       "      <th></th>\n",
       "      <th></th>\n",
       "      <th></th>\n",
       "      <th></th>\n",
       "    </tr>\n",
       "  </thead>\n",
       "  <tbody>\n",
       "    <tr>\n",
       "      <th>39</th>\n",
       "      <td>33.8</td>\n",
       "      <td>46</td>\n",
       "      <td>363.15</td>\n",
       "      <td>72.25</td>\n",
       "      <td>48.9</td>\n",
       "      <td>51.2</td>\n",
       "      <td>136.2</td>\n",
       "      <td>148.1</td>\n",
       "      <td>147.7</td>\n",
       "      <td>87.3</td>\n",
       "      <td>49.1</td>\n",
       "      <td>29.6</td>\n",
       "      <td>45.0</td>\n",
       "      <td>29.0</td>\n",
       "      <td>21.4</td>\n",
       "    </tr>\n",
       "  </tbody>\n",
       "</table>\n",
       "</div>"
      ],
      "text/plain": [
       "      BODYFAT  AGE  WEIGHT  HEIGHT  ADIPOSITY  NECK  CHEST  ABDOMEN    HIP  \\\n",
       "IDNO                                                                         \n",
       "39       33.8   46  363.15   72.25       48.9  51.2  136.2    148.1  147.7   \n",
       "\n",
       "      THIGH  KNEE  ANKLE  BICEPS  FOREARM  WRIST  \n",
       "IDNO                                              \n",
       "39     87.3  49.1   29.6    45.0     29.0   21.4  "
      ]
     },
     "execution_count": 32,
     "metadata": {},
     "output_type": "execute_result"
    }
   ],
   "source": [
    "data.loc[[39]]"
   ]
  },
  {
   "cell_type": "markdown",
   "metadata": {},
   "source": [
    "The ABDOMEN of No.39 is 148.1 cm, which is the maximum value in the data set. The second maximum value (122 cm) is much smaller than the maximum value. For the linear regression model, we could identify it as an outlier which distort the outcome and accuracy of the model. Thus we remove this data point from the model."
   ]
  },
  {
   "cell_type": "markdown",
   "metadata": {},
   "source": [
    "## Step 4: Model Rebuild"
   ]
  },
  {
   "cell_type": "code",
   "execution_count": 33,
   "metadata": {},
   "outputs": [
    {
     "name": "stdout",
     "output_type": "stream",
     "text": [
      "                            OLS Regression Results                            \n",
      "==============================================================================\n",
      "Dep. Variable:                BODYFAT   R-squared:                       0.672\n",
      "Model:                            OLS   Adj. R-squared:                  0.671\n",
      "Method:                 Least Squares   F-statistic:                     396.3\n",
      "Date:                Mon, 04 Feb 2019   Prob (F-statistic):           1.16e-48\n",
      "Time:                        20:03:17   Log-Likelihood:                -564.90\n",
      "No. Observations:                 195   AIC:                             1134.\n",
      "Df Residuals:                     193   BIC:                             1140.\n",
      "Df Model:                           1                                         \n",
      "Covariance Type:            nonrobust                                         \n",
      "==============================================================================\n",
      "                 coef    std err          t      P>|t|      [0.025      0.975]\n",
      "------------------------------------------------------------------------------\n",
      "const        -38.1553      2.911    -13.106      0.000     -43.897     -32.413\n",
      "ABDOMEN        0.6204      0.031     19.907      0.000       0.559       0.682\n",
      "==============================================================================\n",
      "Omnibus:                        5.034   Durbin-Watson:                   2.114\n",
      "Prob(Omnibus):                  0.081   Jarque-Bera (JB):                2.971\n",
      "Skew:                          -0.058   Prob(JB):                        0.226\n",
      "Kurtosis:                       2.406   Cond. No.                         862.\n",
      "==============================================================================\n",
      "\n",
      "Warnings:\n",
      "[1] Standard Errors assume that the covariance matrix of the errors is correctly specified.\n"
     ]
    }
   ],
   "source": [
    "Y_train = Y_train.drop(index=39)\n",
    "X_train = X_train.drop(index=39)\n",
    "lm_bic = sm.OLS(Y_train,sm.add_constant(X_train['ABDOMEN'])).fit()\n",
    "print(lm_bic.summary())"
   ]
  },
  {
   "cell_type": "markdown",
   "metadata": {},
   "source": [
    "### Standardized Residuals vs Fitted Values"
   ]
  },
  {
   "cell_type": "code",
   "execution_count": 34,
   "metadata": {
    "scrolled": true
   },
   "outputs": [
    {
     "data": {
      "text/plain": [
       "[<matplotlib.lines.Line2D at 0x7f204905e9b0>]"
      ]
     },
     "execution_count": 34,
     "metadata": {},
     "output_type": "execute_result"
    },
    {
     "data": {
      "image/png": "[encoded data removed]",
      "text/plain": [
       "<Figure size 432x288 with 1 Axes>"
      ]
     },
     "metadata": {
      "needs_background": "light"
     },
     "output_type": "display_data"
    }
   ],
   "source": [
    "Y_predicted = lm_bic.predict(sm.add_constant(X_train[v2]))\n",
    "residuals = Y_train - Y_predicted\n",
    "std_res = (residuals-np.mean(residuals))/np.std(residuals)\n",
    "plt.scatter(Y_predicted,std_res)\n",
    "plt.xlabel('Fitted Value')\n",
    "plt.ylabel('Standardized Residuals')\n",
    "plt.title('Fitted Value vs Standardized Residuals')\n",
    "from statsmodels.nonparametric.smoothers_lowess import lowess\n",
    "ys = lowess(std_res,Y_predicted)\n",
    "plt.plot(ys[:,0],ys[:,1],'red',linewidth=1)"
   ]
  },
  {
   "cell_type": "markdown",
   "metadata": {},
   "source": [
    "The residuals fall within an area representing a horizonal band, which indicates the model assumptions of constant variance and zero error mean are correct."
   ]
  },
  {
   "cell_type": "markdown",
   "metadata": {},
   "source": [
    "### Test for error normality\n",
    "\n",
    "One of the main assumption for the inferential part of the regression is the assumption that the errors follow a normal distribution. A first important verification is to check the compatibility of the residuals with this assumption.\n",
    "\n",
    "- Jarque-Bera normality test\n",
    "\n",
    "This test checks if the observed skewness and kurtosis matching a normal distribution. The p-value of the test is 0.2. Thus, we can assume that the errors are a normal distribution at the 0.05 level.\n",
    "\n",
    "- Normal probability plot\n",
    "\n",
    "The normal probability plot is a graphical technique to identify substantive departures from normality."
   ]
  },
  {
   "cell_type": "code",
   "execution_count": 35,
   "metadata": {},
   "outputs": [
    {
     "data": {
      "image/png": "[encoded data removed]",
      "text/plain": [
       "<Figure size 432x180 with 1 Axes>"
      ]
     },
     "metadata": {
      "needs_background": "light"
     },
     "output_type": "display_data"
    }
   ],
   "source": [
    "from scipy.stats import probplot\n",
    "fig, ax = plt.subplots(figsize=(6,2.5))\n",
    "_, (__, ___, r) = probplot(residuals, plot=ax, fit=True)"
   ]
  },
  {
   "cell_type": "markdown",
   "metadata": {},
   "source": [
    "The graph confirms the Jarque-Bera test. The points are approximately aligned."
   ]
  },
  {
   "cell_type": "markdown",
   "metadata": {},
   "source": [
    "### Detection of outliers and influential points"
   ]
  },
  {
   "cell_type": "code",
   "execution_count": 36,
   "metadata": {},
   "outputs": [
    {
     "data": {
      "text/plain": [
       "Text(0.5, 1.0, \"Cook's distance\")"
      ]
     },
     "execution_count": 36,
     "metadata": {},
     "output_type": "execute_result"
    },
    {
     "data": {
      "image/png": "[encoded data removed]",
      "text/plain": [
       "<Figure size 432x288 with 1 Axes>"
      ]
     },
     "metadata": {
      "needs_background": "light"
     },
     "output_type": "display_data"
    }
   ],
   "source": [
    "# Cook's distance\n",
    "influence = lm_bic.get_influence()\n",
    "(c,p) = influence.cooks_distance\n",
    "plt.stem(np.arange(len(c)), c, markerfmt=',')\n",
    "plt.xlabel('INDEX')\n",
    "plt.ylabel('Cook\\'s distance')\n",
    "plt.title('Cook\\'s distance')"
   ]
  },
  {
   "cell_type": "code",
   "execution_count": 37,
   "metadata": {},
   "outputs": [
    {
     "data": {
      "image/png": "[encoded data removed]",
      "text/plain": [
       "<Figure size 432x288 with 1 Axes>"
      ]
     },
     "metadata": {
      "needs_background": "light"
     },
     "output_type": "display_data"
    }
   ],
   "source": [
    "# re-check\n",
    "X = sm.add_constant((X_train[v2]-np.mean(X_train[v2]))/np.std(X_train[v2]))\n",
    "hat = X.dot(np.linalg.inv(X.T.dot(X)).dot(X.T))\n",
    "hat_diag = np.diag(hat)\n",
    "plt.plot(hat_diag,std_res,'bo')\n",
    "plt.xlabel('Leverage')\n",
    "plt.ylabel('Standardized residuals')\n",
    "sh = 2*2/len(Y_train)\n",
    "plt.plot([sh,sh],[-2.5,2], 'r')\n",
    "suspicious1 = np.where(hat_diag > sh)[0]\n",
    "for i in suspicious1:\n",
    "    plt.text(hat_diag[i],std_res.iloc[i]+0.1,str(X_train.index[i]))"
   ]
  },
  {
   "cell_type": "code",
   "execution_count": 38,
   "metadata": {},
   "outputs": [
    {
     "data": {
      "text/html": [
       "<div>\n",
       "<style scoped>\n",
       "    .dataframe tbody tr th:only-of-type {\n",
       "        vertical-align: middle;\n",
       "    }\n",
       "\n",
       "    .dataframe tbody tr th {\n",
       "        vertical-align: top;\n",
       "    }\n",
       "\n",
       "    .dataframe thead th {\n",
       "        text-align: right;\n",
       "    }\n",
       "</style>\n",
       "<table border=\"1\" class=\"dataframe\">\n",
       "  <thead>\n",
       "    <tr style=\"text-align: right;\">\n",
       "      <th></th>\n",
       "      <th>ABDOMEN</th>\n",
       "      <th>quantile</th>\n",
       "    </tr>\n",
       "    <tr>\n",
       "      <th>IDNO</th>\n",
       "      <th></th>\n",
       "      <th></th>\n",
       "    </tr>\n",
       "  </thead>\n",
       "  <tbody>\n",
       "    <tr>\n",
       "      <th>169</th>\n",
       "      <td>115.9</td>\n",
       "      <td>98.974359</td>\n",
       "    </tr>\n",
       "    <tr>\n",
       "      <th>216</th>\n",
       "      <td>122.1</td>\n",
       "      <td>100.000000</td>\n",
       "    </tr>\n",
       "    <tr>\n",
       "      <th>36</th>\n",
       "      <td>113.1</td>\n",
       "      <td>96.410256</td>\n",
       "    </tr>\n",
       "    <tr>\n",
       "      <th>242</th>\n",
       "      <td>118.0</td>\n",
       "      <td>99.487179</td>\n",
       "    </tr>\n",
       "    <tr>\n",
       "      <th>238</th>\n",
       "      <td>113.8</td>\n",
       "      <td>97.948718</td>\n",
       "    </tr>\n",
       "    <tr>\n",
       "      <th>153</th>\n",
       "      <td>72.8</td>\n",
       "      <td>1.025641</td>\n",
       "    </tr>\n",
       "    <tr>\n",
       "      <th>192</th>\n",
       "      <td>113.7</td>\n",
       "      <td>97.435897</td>\n",
       "    </tr>\n",
       "    <tr>\n",
       "      <th>29</th>\n",
       "      <td>73.9</td>\n",
       "      <td>2.051282</td>\n",
       "    </tr>\n",
       "    <tr>\n",
       "      <th>244</th>\n",
       "      <td>113.4</td>\n",
       "      <td>96.923077</td>\n",
       "    </tr>\n",
       "    <tr>\n",
       "      <th>250</th>\n",
       "      <td>111.5</td>\n",
       "      <td>95.897436</td>\n",
       "    </tr>\n",
       "    <tr>\n",
       "      <th>43</th>\n",
       "      <td>111.2</td>\n",
       "      <td>95.384615</td>\n",
       "    </tr>\n",
       "    <tr>\n",
       "      <th>47</th>\n",
       "      <td>73.7</td>\n",
       "      <td>1.538462</td>\n",
       "    </tr>\n",
       "    <tr>\n",
       "      <th>172</th>\n",
       "      <td>75.0</td>\n",
       "      <td>3.076923</td>\n",
       "    </tr>\n",
       "    <tr>\n",
       "      <th>35</th>\n",
       "      <td>115.6</td>\n",
       "      <td>98.461538</td>\n",
       "    </tr>\n",
       "    <tr>\n",
       "      <th>27</th>\n",
       "      <td>74.6</td>\n",
       "      <td>2.564103</td>\n",
       "    </tr>\n",
       "    <tr>\n",
       "      <th>50</th>\n",
       "      <td>70.4</td>\n",
       "      <td>0.512821</td>\n",
       "    </tr>\n",
       "  </tbody>\n",
       "</table>\n",
       "</div>"
      ],
      "text/plain": [
       "      ABDOMEN    quantile\n",
       "IDNO                     \n",
       "169     115.9   98.974359\n",
       "216     122.1  100.000000\n",
       "36      113.1   96.410256\n",
       "242     118.0   99.487179\n",
       "238     113.8   97.948718\n",
       "153      72.8    1.025641\n",
       "192     113.7   97.435897\n",
       "29       73.9    2.051282\n",
       "244     113.4   96.923077\n",
       "250     111.5   95.897436\n",
       "43      111.2   95.384615\n",
       "47       73.7    1.538462\n",
       "172      75.0    3.076923\n",
       "35      115.6   98.461538\n",
       "27       74.6    2.564103\n",
       "50       70.4    0.512821"
      ]
     },
     "execution_count": 38,
     "metadata": {},
     "output_type": "execute_result"
    }
   ],
   "source": [
    "from scipy import stats\n",
    "quantile = np.array([stats.percentileofscore(X_train.ABDOMEN, a, 'rank') for a in X_train.ABDOMEN])\n",
    "pd.DataFrame({'ABDOMEN':X_train.iloc[suspicious1].ABDOMEN, 'quantile':quantile[suspicious1]})"
   ]
  },
  {
   "cell_type": "markdown",
   "metadata": {},
   "source": [
    "In this case, these data with high leverage are people with extreme but reasonable ABDOMEN values. So these data points won't be deleted. Based on the diagnostic plots above, there is no outliers and influential points in this model. And the model assumptions are correct as well."
   ]
  },
  {
   "cell_type": "markdown",
   "metadata": {},
   "source": [
    "## Step 5: Proposed Model"
   ]
  },
  {
   "cell_type": "code",
   "execution_count": 39,
   "metadata": {},
   "outputs": [
    {
     "data": {
      "text/plain": [
       "<matplotlib.legend.Legend at 0x7f20025f2390>"
      ]
     },
     "execution_count": 39,
     "metadata": {},
     "output_type": "execute_result"
    },
    {
     "data": {
      "image/png": "[encoded data removed]",
      "text/plain": [
       "<Figure size 432x288 with 1 Axes>"
      ]
     },
     "metadata": {
      "needs_background": "light"
     },
     "output_type": "display_data"
    }
   ],
   "source": [
    "import matplotlib.lines as mlines\n",
    "plt.plot(X_train.ABDOMEN,Y_train,'bo')\n",
    "plt.plot(X_train.ABDOMEN,lm_bic.predict(sm.add_constant(X_train['ABDOMEN'])),'r')\n",
    "plt.xlabel('ABDOMEN(cm)')\n",
    "plt.ylabel('BODYFAT(%)')\n",
    "blue_line = mlines.Line2D([], [], color='red',\n",
    "                          markersize=15, label='slope=0.62, intercept=-38.15')\n",
    "plt.title('Scatter plot of BODYFAT')\n",
    "plt.legend(handles = [blue_line])"
   ]
  },
  {
   "cell_type": "markdown",
   "metadata": {},
   "source": [
    "[Shiny App](https://songsong.shinyapps.io/stat628-module1/)"
   ]
  },
  {
   "cell_type": "markdown",
   "metadata": {},
   "source": [
    "Our proposed model is we want to use abdomen to predict body fat percentage:\n",
    "$$BodyFat(\\%) = -38.15 + 0.62 \\times ABDOMEN(cm)$$\n",
    "\n",
    "__Possible rule of thumb__: \"mutiply your ABDOMEN by 0.6, then minus 38\"\n",
    "- The coefficient of determination is equal to $R^2=0.67$.\n",
    "- The regression is globally significant at the 0.05 level \\[F-statistic = 396.3, with Prob (F-statistic) = 1.16e-48\\]\n",
    "- All the coefficients seem also siginificant at the 0.05 level.\n",
    "- Every addtional centimeter in ABDOMEN you can expect body fat percentage to increase by an average of 0.62%\n",
    "\n",
    "__Stengths and Weakness of Model__: I think the OLS model is a reasonable model between body fat percentage and abdomen, despite some caveats.\n",
    "1. Linearity and Additivity: The expected value of dependent variable is a straight-line function of each independent variable, holding the others fixed; The slope of that line does not depend on the values of the other variables; Our proposed model only have one independent variable.\n",
    "2. Statitical independence of the errors: The individuals collected in the data set are independent (no duplicate data points).\n",
    "3. Homoscedasticity of the errors: It's reasonable based on the diagnostic plots.\n",
    "4. Normality of the error distribution: Though there is a little tail in our QQ plot, the assumption is not violated.\n",
    "5. The precision of out body fat estimation: As shown below, our proposed model follows the spotlight in real life.\n",
    "6. Adjusted $R^2$ here is only about 0.67, which means this model may not have a satisfactory accuracy."
   ]
  },
  {
   "cell_type": "markdown",
   "metadata": {},
   "source": [
    "However, bodyfat percentage is a measurement of obesity. In practice, we notice that people only care about the description of body fat percentage rather than the exact value of body fat percentage. Here is a table we found on Wikipedia.\n",
    "\n",
    "| Description | Men |\n",
    "| --- | --- |\n",
    "| Essential fit | 3-5% |\n",
    "| Athletes | 6-13% |\n",
    "| Fitness | 14-17% |\n",
    "|Average|18-24%|\n",
    "|Obese|25%+|"
   ]
  },
  {
   "cell_type": "markdown",
   "metadata": {},
   "source": [
    "So we deicded to classify men into three levels: fitness people (bodyfat <= 17), average people (17 < bodyfat < 25) and obese people (bodyfat >= 25)."
   ]
  },
  {
   "cell_type": "code",
   "execution_count": 40,
   "metadata": {},
   "outputs": [],
   "source": [
    "strong = np.where(Y_test<=17)[0]\n",
    "fit = np.where((Y_test>17)&(Y_test<25))[0]\n",
    "fat = np.where(Y_test>=25)[0]"
   ]
  },
  {
   "cell_type": "code",
   "execution_count": 41,
   "metadata": {},
   "outputs": [],
   "source": [
    "y_true = np.empty_like(Y_test)\n",
    "for i in np.arange(0,len(y_true)):\n",
    "    if i in strong:\n",
    "        y_true[i] = 0\n",
    "    if i in fit:\n",
    "        y_true[i] = 1\n",
    "    if i in fat:\n",
    "        y_true[i] = 2"
   ]
  },
  {
   "cell_type": "code",
   "execution_count": 42,
   "metadata": {},
   "outputs": [],
   "source": [
    "y_pred = np.empty_like(Y_test)\n",
    "Y_pred = lm_bic.predict(sm.add_constant(X_test[v2]))\n",
    "strong1 = np.where(Y_pred<=17)[0]\n",
    "fit1 = np.where((Y_pred>17)&(Y_pred<25))[0]\n",
    "fat1 = np.where(Y_pred>=25)[0]\n",
    "for i in np.arange(0,len(y_pred)):\n",
    "    if i in strong:\n",
    "        y_pred[i] = 0\n",
    "    if i in fit:\n",
    "        y_pred[i] = 1\n",
    "    if i in fat:\n",
    "        y_pred[i] = 2"
   ]
  },
  {
   "cell_type": "code",
   "execution_count": 43,
   "metadata": {},
   "outputs": [
    {
     "name": "stdout",
     "output_type": "stream",
     "text": [
      "[[25  0  0]\n",
      " [ 0 18  0]\n",
      " [ 0  0  6]]\n"
     ]
    }
   ],
   "source": [
    "from sklearn.metrics import confusion_matrix\n",
    "print(confusion_matrix(y_true,y_pred))"
   ]
  },
  {
   "cell_type": "markdown",
   "metadata": {},
   "source": [
    "From this confusion matrix, none of these people in test set is wrongly classified according to our prediction. This result strongly proves our model is reasonable."
   ]
  }
 ],
 "metadata": {
  "kernelspec": {
   "display_name": "Python 3",
   "language": "python",
   "name": "python3"
  },
  "language_info": {
   "codemirror_mode": {
    "name": "ipython",
    "version": 3
   },
   "file_extension": ".py",
   "mimetype": "text/x-python",
   "name": "python",
   "nbconvert_exporter": "python",
   "pygments_lexer": "ipython3",
   "version": "3.6.7"
  }
 },
 "nbformat": 4,
 "nbformat_minor": 2
}
